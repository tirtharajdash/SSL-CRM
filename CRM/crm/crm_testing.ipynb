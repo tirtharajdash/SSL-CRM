{
 "cells": [
  {
   "cell_type": "code",
   "execution_count": 3,
   "metadata": {},
   "outputs": [
    {
     "name": "stdout",
     "output_type": "stream",
     "text": [
      "c:\\Users\\TEJAS\\OneDrive\\Desktop\\CRM-main - layerwise\n"
     ]
    }
   ],
   "source": [
    "#cd .."
   ]
  },
  {
   "cell_type": "code",
   "execution_count": 4,
   "metadata": {},
   "outputs": [
    {
     "name": "stderr",
     "output_type": "stream",
     "text": [
      "C:\\Users\\TEJAS\\AppData\\Local\\Packages\\PythonSoftwareFoundation.Python.3.10_qbz5n2kfra8p0\\LocalCache\\local-packages\\Python310\\site-packages\\tqdm\\auto.py:22: TqdmWarning: IProgress not found. Please update jupyter and ipywidgets. See https://ipywidgets.readthedocs.io/en/stable/user_install.html\n",
      "  from .autonotebook import tqdm as notebook_tqdm\n",
      "2024-02-28 17:15:11,943\tINFO util.py:154 -- Missing packages: ['ipywidgets']. Run `pip install -U ipywidgets`, then restart the notebook server for rich notebook output.\n",
      "2024-02-28 17:15:13,513\tINFO util.py:154 -- Missing packages: ['ipywidgets']. Run `pip install -U ipywidgets`, then restart the notebook server for rich notebook output.\n"
     ]
    }
   ],
   "source": [
    "from crm.core import Network, Decoder_fullyconnected"
   ]
  },
  {
   "cell_type": "code",
   "execution_count": 14,
   "metadata": {},
   "outputs": [],
   "source": [
    "#pip install ray"
   ]
  },
  {
   "cell_type": "code",
   "execution_count": 5,
   "metadata": {},
   "outputs": [],
   "source": [
    "num_neurons = 8\n",
    "adj_list = {0: [1, 2], 1: [3, 4], 2: [3, 4], 3: [5, 6, 7], 4: [5, 6, 7], 5: [], 6: [], 7: []}\n",
    "crm_network = Network(num_neurons, adj_list)"
   ]
  },
  {
   "cell_type": "code",
   "execution_count": 18,
   "metadata": {},
   "outputs": [],
   "source": [
    "import torch\n",
    "device = torch.device(\"cuda\" if torch.cuda.is_available() and args.gpu else \"cpu\")\n"
   ]
  },
  {
   "cell_type": "code",
   "execution_count": 22,
   "metadata": {},
   "outputs": [
    {
     "data": {
      "text/plain": [
       "Decoder_fullyconnected()"
      ]
     },
     "execution_count": 22,
     "metadata": {},
     "output_type": "execute_result"
    }
   ],
   "source": [
    "decoder = Decoder_fullyconnected(crm_network)\n",
    "decoder.to(device)"
   ]
  },
  {
   "cell_type": "code",
   "execution_count": 25,
   "metadata": {},
   "outputs": [
    {
     "data": {
      "text/plain": [
       "torch.Size([3, 1])"
      ]
     },
     "execution_count": 25,
     "metadata": {},
     "output_type": "execute_result"
    }
   ],
   "source": [
    "crm_network.reset()\n",
    "op1 = crm_network.forward([1,2,3,4,5,6,7,8])\n",
    "op1.shape"
   ]
  },
  {
   "cell_type": "code",
   "execution_count": 26,
   "metadata": {},
   "outputs": [
    {
     "ename": "TypeError",
     "evalue": "only integer tensors of a single element can be converted to an index",
     "output_type": "error",
     "traceback": [
      "\u001b[1;31m---------------------------------------------------------------------------\u001b[0m",
      "\u001b[1;31mTypeError\u001b[0m                                 Traceback (most recent call last)",
      "Cell \u001b[1;32mIn[26], line 1\u001b[0m\n\u001b[1;32m----> 1\u001b[0m op2 \u001b[38;5;241m=\u001b[39m crm\u001b[38;5;241m.\u001b[39mforward([\u001b[38;5;241m1\u001b[39m,\u001b[38;5;241m2\u001b[39m,\u001b[38;5;241m3\u001b[39m,\u001b[38;5;241m4\u001b[39m,\u001b[38;5;241m5\u001b[39m,\u001b[38;5;241m6\u001b[39m,\u001b[38;5;241m7\u001b[39m,\u001b[38;5;241m8\u001b[39m])\n\u001b[0;32m      2\u001b[0m op2\u001b[38;5;241m.\u001b[39mshape\n",
      "Cell \u001b[1;32mIn[2], line 35\u001b[0m, in \u001b[0;36mCRMNetwork.forward\u001b[1;34m(self, input_values)\u001b[0m\n\u001b[0;32m     33\u001b[0m \u001b[38;5;28;01mdef\u001b[39;00m \u001b[38;5;21mforward\u001b[39m(\u001b[38;5;28mself\u001b[39m, input_values):\n\u001b[0;32m     34\u001b[0m     \u001b[38;5;66;03m# Apply mask to input values\u001b[39;00m\n\u001b[1;32m---> 35\u001b[0m     masked_input \u001b[38;5;241m=\u001b[39m input_values \u001b[38;5;241m*\u001b[39m \u001b[38;5;28mself\u001b[39m\u001b[38;5;241m.\u001b[39mneuron_mask\n\u001b[0;32m     37\u001b[0m     \u001b[38;5;28mself\u001b[39m\u001b[38;5;241m.\u001b[39mneuron_values \u001b[38;5;241m=\u001b[39m masked_input\u001b[38;5;241m.\u001b[39mclone()\n\u001b[0;32m     38\u001b[0m     \u001b[38;5;28;01mfor\u001b[39;00m i \u001b[38;5;129;01min\u001b[39;00m \u001b[38;5;28mrange\u001b[39m(\u001b[38;5;28mself\u001b[39m\u001b[38;5;241m.\u001b[39mnum_neurons):\n",
      "\u001b[1;31mTypeError\u001b[0m: only integer tensors of a single element can be converted to an index"
     ]
    }
   ],
   "source": [
    "op2 = crm.forward([1,2,3,4,5,6,7,8])\n",
    "op2.shape"
   ]
  },
  {
   "cell_type": "code",
   "execution_count": 19,
   "metadata": {},
   "outputs": [
    {
     "data": {
      "text/plain": [
       "torch.Size([2, 1])"
      ]
     },
     "execution_count": 19,
     "metadata": {},
     "output_type": "execute_result"
    }
   ],
   "source": [
    "op = crm_network.forward_1([1,2,3,4,5,6,7,8])\n",
    "op.shape"
   ]
  },
  {
   "cell_type": "code",
   "execution_count": 21,
   "metadata": {},
   "outputs": [],
   "source": [
    "decoder.forward(op.reshape(1,-1))"
   ]
  },
  {
   "cell_type": "code",
   "execution_count": 9,
   "metadata": {},
   "outputs": [
    {
     "data": {
      "text/plain": [
       "{0: [0], 1: [1, 2], 2: [3, 4], 3: [5, 6, 7]}"
      ]
     },
     "execution_count": 9,
     "metadata": {},
     "output_type": "execute_result"
    }
   ],
   "source": [
    "crm_network.layerwise_neurons"
   ]
  },
  {
   "cell_type": "code",
   "execution_count": 22,
   "metadata": {},
   "outputs": [
    {
     "data": {
      "text/plain": [
       "4"
      ]
     },
     "execution_count": 22,
     "metadata": {},
     "output_type": "execute_result"
    }
   ],
   "source": [
    "crm_network.num_layers"
   ]
  },
  {
   "cell_type": "code",
   "execution_count": 15,
   "metadata": {},
   "outputs": [
    {
     "data": {
      "text/plain": [
       "[<crm.core.neuron.Neuron object at 0x000001C7E56D6B10>\n",
       " 5: 0\t Grad: 0\n",
       "             \n",
       " Predecessor: [3, 4]\tSuccessor: [],\n",
       " <crm.core.neuron.Neuron object at 0x000001C7E56D5AD0>\n",
       " 6: 0\t Grad: 0\n",
       "             \n",
       " Predecessor: [3, 4]\tSuccessor: [],\n",
       " <crm.core.neuron.Neuron object at 0x000001C7E56D7010>\n",
       " 7: 0\t Grad: 0\n",
       "             \n",
       " Predecessor: [3, 4]\tSuccessor: []]"
      ]
     },
     "execution_count": 15,
     "metadata": {},
     "output_type": "execute_result"
    }
   ],
   "source": [
    "[neuro for neuro in (crm_network.neurons) if neuro.layer == crm_network.num_layers-1]"
   ]
  },
  {
   "cell_type": "code",
   "execution_count": 16,
   "metadata": {},
   "outputs": [
    {
     "data": {
      "text/plain": [
       "[0, 2, 1, 4, 3, 7, 6, 5]"
      ]
     },
     "execution_count": 16,
     "metadata": {},
     "output_type": "execute_result"
    }
   ],
   "source": [
    "crm_network.topo_order"
   ]
  },
  {
   "cell_type": "code",
   "execution_count": 1,
   "metadata": {},
   "outputs": [],
   "source": [
    "import torch\n",
    "from torch import nn\n",
    "import torch.nn.functional as F\n",
    "import torch.optim as optim\n",
    "\n",
    "import torch\n",
    "import torch.nn as nn\n",
    "\n",
    "class rho_2_layer(nn.Module):\n",
    "    num_layers = 0\n",
    "    def __init__(self, layer_input_size, layer_output_size, model_input_size, neuron_mask_0, neuron_mask_prev):\n",
    "        super(rho_2_layer, self).__init__()\n",
    "        rho_2_layer.num_layers += 1\n",
    "        self.layer_id = rho_2_layer.num_layers\n",
    "        self.layer_0 = nn.Linear(model_input_size, layer_output_size, bias=False)\n",
    "        self.layer_prev = nn.Linear(layer_input_size, layer_output_size, bias=False)\n",
    "        self.activation = nn.ReLU()\n",
    "        self.neuron_mask_0 = neuron_mask_0\n",
    "        self.neuron_mask_prev = neuron_mask_prev\n",
    "        self.bias = torch.nn.Parameter(torch.zeros(layer_output_size,))\n",
    "                \n",
    "    def forward(self, x, input_layer):\n",
    "        self.layer_0.weight = torch.nn.Parameter(self.layer_0.weight * self.neuron_mask_0)\n",
    "        self.layer_prev.weight = torch.nn.Parameter(self.layer_prev.weight * self.neuron_mask_prev)\n",
    "        \n",
    "        layer_out_0 = self.layer_0(input_layer) \n",
    "        layer_out_prev = self.layer_prev(x)\n",
    "        activation_out = self.activation(layer_out_0 + layer_out_prev + self.bias)\n",
    "        return activation_out\n",
    "    \n",
    "class rho_1_layer(nn.Module):\n",
    "    num_layers = 0\n",
    "    def __init__(self, layer_input_size, layer_output_size, neuron_mask_prev):\n",
    "        super(rho_1_layer, self).__init__()\n",
    "        rho_1_layer.num_layers += 1\n",
    "        self.layer_id = rho_1_layer.num_layers\n",
    "        self.layer_prev = nn.Linear(layer_input_size, layer_output_size, bias=False)\n",
    "        self.activation = nn.ReLU()\n",
    "        self.neuron_mask_prev = neuron_mask_prev\n",
    "        self.bias = torch.nn.Parameter(torch.zeros(layer_output_size,))\n",
    "                \n",
    "    def forward(self, x):\n",
    "        self.layer_prev.weight = torch.nn.Parameter(self.layer_prev.weight * self.neuron_mask_prev)\n",
    "        \n",
    "        layer_out_prev = self.layer_prev(x)\n",
    "        activation_out = self.activation(layer_out_prev + self.bias)\n",
    "        return activation_out"
   ]
  },
  {
   "cell_type": "code",
   "execution_count": 94,
   "metadata": {},
   "outputs": [],
   "source": [
    "class CRM_model(nn.Module):\n",
    "    def __init__(self, num_neurons, adj_list, d_rho1, d_rho2):\n",
    "        super(CRM_model, self).__init__()\n",
    "        self.num_neurons = num_neurons\n",
    "        self.adj_list = adj_list\n",
    "        self.adj_matrix = self._get_adjacency_matrix()\n",
    "        self.layers_list = self._get_layers_list()\n",
    "        #self.layers_list = layers_list\n",
    "        self.d_rho1 = d_rho1\n",
    "        self.d_rho2 = d_rho2\n",
    "        self.input_size = len(self.layers_list[0])\n",
    "        self.output_size = len(self.layers_list[-1])\n",
    "        \n",
    "        # print(self.adj_list, \"\\n\")\n",
    "        # print(self.adj_matrix, \"\\n\")\n",
    "        # print(self.layers_list, \"\\n\")\n",
    "        \n",
    "        self.layers = self._setup_layers()\n",
    "        \n",
    "    def forward(self, inputs):\n",
    "        input_layerwise = [x[..., neurons].detach().clone() for neurons in self.layers_list]\n",
    "        input_layer = input_layerwise[0]\n",
    "        x = inputs[..., self.layers_list[0]]\n",
    "        for i, layer in enumerate(self.layers):\n",
    "            if i < self.d_rho2:\n",
    "                x = layer(x, input_layer) \n",
    "            else:\n",
    "                x = layer(x)\n",
    "                \n",
    "    def _get_layers_list(self):\n",
    "        layer_list = []\n",
    "        prev_neurons = set()\n",
    "        current_layer_neurons = []\n",
    "        last_layer = []\n",
    "        for i in self.adj_list:\n",
    "            if self.adj_list[i] == []:\n",
    "                last_layer.append(i)\n",
    "            \n",
    "            else:\n",
    "                if i in prev_neurons:\n",
    "                    prev_neurons = set()\n",
    "                    layer_list.append(current_layer_neurons)\n",
    "                    current_layer_neurons = []\n",
    "                \n",
    "                current_layer_neurons.append(i)\n",
    "                prev_neurons = prev_neurons.union(set(self.adj_list[i]))\n",
    "        layer_list.append(current_layer_neurons)\n",
    "        layer_list.append(last_layer)\n",
    "\n",
    "        return layer_list\n",
    "        \n",
    "    def _get_adjacency_matrix(self):\n",
    "        # Create adjacency matrix using an adjacency list\n",
    "        adj_matrix = torch.zeros(self.num_neurons, self.num_neurons)\n",
    "        for i in range(self.num_neurons):\n",
    "            if self.adj_list[i]:\n",
    "                adj_matrix[i][self.adj_list[i]] = 1\n",
    "        return adj_matrix\n",
    "    \n",
    "    def _get_submask(self, layer_in, layer_out):\n",
    "        return self.adj_matrix[self.layers_list[layer_out]][:, self.layers_list[layer_in]]\n",
    "    \n",
    "        \n",
    "    def _set_neuron_masks(self):\n",
    "        # Create neuron masks for each layer based on the adjacency matrix\n",
    "        neuron_masks = []\n",
    "        for i in range(self.num_neurons):\n",
    "            neuron_masks.append(self.adj_matrix[i])\n",
    "        return neuron_masks\n",
    "    \n",
    "    def _setup_layers(self):\n",
    "        # Creates a list of all layers\n",
    "        layers = []\n",
    "        for i in range(self.d_rho2 + self.d_rho1):\n",
    "            if i < self.d_rho2:\n",
    "                layers.append(rho_2_layer(len(self.layers_list[i]), \n",
    "                                          len(self.layers_list[i+1]), \n",
    "                                          self.input_size,\n",
    "                                          self._get_submask(0, i+1),\n",
    "                                          self._get_submask(i, i+1)\n",
    "                                          ))\n",
    "            \n",
    "            else:\n",
    "                layers.append(rho_1_layer(len(self.layers_list[i]),\n",
    "                                          len(self.layers_list[i+1]), \n",
    "                                          self._get_submask(i, i+1)\n",
    "                                          ))\n",
    "        return layers"
   ]
  },
  {
   "cell_type": "code",
   "execution_count": 95,
   "metadata": {},
   "outputs": [
    {
     "ename": "RuntimeError",
     "evalue": "mat1 and mat2 shapes cannot be multiplied (1x16 and 3x3)",
     "output_type": "error",
     "traceback": [
      "\u001b[1;31m---------------------------------------------------------------------------\u001b[0m",
      "\u001b[1;31mRuntimeError\u001b[0m                              Traceback (most recent call last)",
      "Cell \u001b[1;32mIn[95], line 15\u001b[0m\n\u001b[0;32m     12\u001b[0m input_data \u001b[38;5;241m=\u001b[39m torch\u001b[38;5;241m.\u001b[39mrandn(batch_size, input_size)\n\u001b[0;32m     14\u001b[0m \u001b[38;5;66;03m# Pass the input data through the model\u001b[39;00m\n\u001b[1;32m---> 15\u001b[0m output \u001b[38;5;241m=\u001b[39m crm_model(input_data)\n\u001b[0;32m     17\u001b[0m \u001b[38;5;66;03m# Print the output\u001b[39;00m\n\u001b[0;32m     18\u001b[0m \u001b[38;5;28mprint\u001b[39m(output)\n",
      "File \u001b[1;32mc:\\Users\\TEJAS\\anaconda3\\Anaconda\\Lib\\site-packages\\torch\\nn\\modules\\module.py:1518\u001b[0m, in \u001b[0;36mModule._wrapped_call_impl\u001b[1;34m(self, *args, **kwargs)\u001b[0m\n\u001b[0;32m   1516\u001b[0m     \u001b[38;5;28;01mreturn\u001b[39;00m \u001b[38;5;28mself\u001b[39m\u001b[38;5;241m.\u001b[39m_compiled_call_impl(\u001b[38;5;241m*\u001b[39margs, \u001b[38;5;241m*\u001b[39m\u001b[38;5;241m*\u001b[39mkwargs)  \u001b[38;5;66;03m# type: ignore[misc]\u001b[39;00m\n\u001b[0;32m   1517\u001b[0m \u001b[38;5;28;01melse\u001b[39;00m:\n\u001b[1;32m-> 1518\u001b[0m     \u001b[38;5;28;01mreturn\u001b[39;00m \u001b[38;5;28mself\u001b[39m\u001b[38;5;241m.\u001b[39m_call_impl(\u001b[38;5;241m*\u001b[39margs, \u001b[38;5;241m*\u001b[39m\u001b[38;5;241m*\u001b[39mkwargs)\n",
      "File \u001b[1;32mc:\\Users\\TEJAS\\anaconda3\\Anaconda\\Lib\\site-packages\\torch\\nn\\modules\\module.py:1527\u001b[0m, in \u001b[0;36mModule._call_impl\u001b[1;34m(self, *args, **kwargs)\u001b[0m\n\u001b[0;32m   1522\u001b[0m \u001b[38;5;66;03m# If we don't have any hooks, we want to skip the rest of the logic in\u001b[39;00m\n\u001b[0;32m   1523\u001b[0m \u001b[38;5;66;03m# this function, and just call forward.\u001b[39;00m\n\u001b[0;32m   1524\u001b[0m \u001b[38;5;28;01mif\u001b[39;00m \u001b[38;5;129;01mnot\u001b[39;00m (\u001b[38;5;28mself\u001b[39m\u001b[38;5;241m.\u001b[39m_backward_hooks \u001b[38;5;129;01mor\u001b[39;00m \u001b[38;5;28mself\u001b[39m\u001b[38;5;241m.\u001b[39m_backward_pre_hooks \u001b[38;5;129;01mor\u001b[39;00m \u001b[38;5;28mself\u001b[39m\u001b[38;5;241m.\u001b[39m_forward_hooks \u001b[38;5;129;01mor\u001b[39;00m \u001b[38;5;28mself\u001b[39m\u001b[38;5;241m.\u001b[39m_forward_pre_hooks\n\u001b[0;32m   1525\u001b[0m         \u001b[38;5;129;01mor\u001b[39;00m _global_backward_pre_hooks \u001b[38;5;129;01mor\u001b[39;00m _global_backward_hooks\n\u001b[0;32m   1526\u001b[0m         \u001b[38;5;129;01mor\u001b[39;00m _global_forward_hooks \u001b[38;5;129;01mor\u001b[39;00m _global_forward_pre_hooks):\n\u001b[1;32m-> 1527\u001b[0m     \u001b[38;5;28;01mreturn\u001b[39;00m forward_call(\u001b[38;5;241m*\u001b[39margs, \u001b[38;5;241m*\u001b[39m\u001b[38;5;241m*\u001b[39mkwargs)\n\u001b[0;32m   1529\u001b[0m \u001b[38;5;28;01mtry\u001b[39;00m:\n\u001b[0;32m   1530\u001b[0m     result \u001b[38;5;241m=\u001b[39m \u001b[38;5;28;01mNone\u001b[39;00m\n",
      "Cell \u001b[1;32mIn[94], line 25\u001b[0m, in \u001b[0;36mCRM_model.forward\u001b[1;34m(self, x)\u001b[0m\n\u001b[0;32m     23\u001b[0m \u001b[38;5;28;01mfor\u001b[39;00m i, layer \u001b[38;5;129;01min\u001b[39;00m \u001b[38;5;28menumerate\u001b[39m(\u001b[38;5;28mself\u001b[39m\u001b[38;5;241m.\u001b[39mlayers):\n\u001b[0;32m     24\u001b[0m     \u001b[38;5;28;01mif\u001b[39;00m i \u001b[38;5;241m<\u001b[39m \u001b[38;5;28mself\u001b[39m\u001b[38;5;241m.\u001b[39md_rho2:\n\u001b[1;32m---> 25\u001b[0m         x \u001b[38;5;241m=\u001b[39m layer(x, inputs) \n\u001b[0;32m     26\u001b[0m     \u001b[38;5;28;01melse\u001b[39;00m:\n\u001b[0;32m     27\u001b[0m         x \u001b[38;5;241m=\u001b[39m layer(x)\n",
      "File \u001b[1;32mc:\\Users\\TEJAS\\anaconda3\\Anaconda\\Lib\\site-packages\\torch\\nn\\modules\\module.py:1518\u001b[0m, in \u001b[0;36mModule._wrapped_call_impl\u001b[1;34m(self, *args, **kwargs)\u001b[0m\n\u001b[0;32m   1516\u001b[0m     \u001b[38;5;28;01mreturn\u001b[39;00m \u001b[38;5;28mself\u001b[39m\u001b[38;5;241m.\u001b[39m_compiled_call_impl(\u001b[38;5;241m*\u001b[39margs, \u001b[38;5;241m*\u001b[39m\u001b[38;5;241m*\u001b[39mkwargs)  \u001b[38;5;66;03m# type: ignore[misc]\u001b[39;00m\n\u001b[0;32m   1517\u001b[0m \u001b[38;5;28;01melse\u001b[39;00m:\n\u001b[1;32m-> 1518\u001b[0m     \u001b[38;5;28;01mreturn\u001b[39;00m \u001b[38;5;28mself\u001b[39m\u001b[38;5;241m.\u001b[39m_call_impl(\u001b[38;5;241m*\u001b[39margs, \u001b[38;5;241m*\u001b[39m\u001b[38;5;241m*\u001b[39mkwargs)\n",
      "File \u001b[1;32mc:\\Users\\TEJAS\\anaconda3\\Anaconda\\Lib\\site-packages\\torch\\nn\\modules\\module.py:1527\u001b[0m, in \u001b[0;36mModule._call_impl\u001b[1;34m(self, *args, **kwargs)\u001b[0m\n\u001b[0;32m   1522\u001b[0m \u001b[38;5;66;03m# If we don't have any hooks, we want to skip the rest of the logic in\u001b[39;00m\n\u001b[0;32m   1523\u001b[0m \u001b[38;5;66;03m# this function, and just call forward.\u001b[39;00m\n\u001b[0;32m   1524\u001b[0m \u001b[38;5;28;01mif\u001b[39;00m \u001b[38;5;129;01mnot\u001b[39;00m (\u001b[38;5;28mself\u001b[39m\u001b[38;5;241m.\u001b[39m_backward_hooks \u001b[38;5;129;01mor\u001b[39;00m \u001b[38;5;28mself\u001b[39m\u001b[38;5;241m.\u001b[39m_backward_pre_hooks \u001b[38;5;129;01mor\u001b[39;00m \u001b[38;5;28mself\u001b[39m\u001b[38;5;241m.\u001b[39m_forward_hooks \u001b[38;5;129;01mor\u001b[39;00m \u001b[38;5;28mself\u001b[39m\u001b[38;5;241m.\u001b[39m_forward_pre_hooks\n\u001b[0;32m   1525\u001b[0m         \u001b[38;5;129;01mor\u001b[39;00m _global_backward_pre_hooks \u001b[38;5;129;01mor\u001b[39;00m _global_backward_hooks\n\u001b[0;32m   1526\u001b[0m         \u001b[38;5;129;01mor\u001b[39;00m _global_forward_hooks \u001b[38;5;129;01mor\u001b[39;00m _global_forward_pre_hooks):\n\u001b[1;32m-> 1527\u001b[0m     \u001b[38;5;28;01mreturn\u001b[39;00m forward_call(\u001b[38;5;241m*\u001b[39margs, \u001b[38;5;241m*\u001b[39m\u001b[38;5;241m*\u001b[39mkwargs)\n\u001b[0;32m   1529\u001b[0m \u001b[38;5;28;01mtry\u001b[39;00m:\n\u001b[0;32m   1530\u001b[0m     result \u001b[38;5;241m=\u001b[39m \u001b[38;5;28;01mNone\u001b[39;00m\n",
      "Cell \u001b[1;32mIn[1], line 27\u001b[0m, in \u001b[0;36mrho_2_layer.forward\u001b[1;34m(self, x, input_layer)\u001b[0m\n\u001b[0;32m     24\u001b[0m \u001b[38;5;28mself\u001b[39m\u001b[38;5;241m.\u001b[39mlayer_prev\u001b[38;5;241m.\u001b[39mweight \u001b[38;5;241m=\u001b[39m torch\u001b[38;5;241m.\u001b[39mnn\u001b[38;5;241m.\u001b[39mParameter(\u001b[38;5;28mself\u001b[39m\u001b[38;5;241m.\u001b[39mlayer_prev\u001b[38;5;241m.\u001b[39mweight \u001b[38;5;241m*\u001b[39m \u001b[38;5;28mself\u001b[39m\u001b[38;5;241m.\u001b[39mneuron_mask_prev)\n\u001b[0;32m     26\u001b[0m layer_out_0 \u001b[38;5;241m=\u001b[39m \u001b[38;5;28mself\u001b[39m\u001b[38;5;241m.\u001b[39mlayer_0(input_layer) \n\u001b[1;32m---> 27\u001b[0m layer_out_prev \u001b[38;5;241m=\u001b[39m \u001b[38;5;28mself\u001b[39m\u001b[38;5;241m.\u001b[39mlayer_prev(x)\n\u001b[0;32m     28\u001b[0m activation_out \u001b[38;5;241m=\u001b[39m \u001b[38;5;28mself\u001b[39m\u001b[38;5;241m.\u001b[39mactivation(layer_out_0 \u001b[38;5;241m+\u001b[39m layer_out_prev \u001b[38;5;241m+\u001b[39m \u001b[38;5;28mself\u001b[39m\u001b[38;5;241m.\u001b[39mbias)\n\u001b[0;32m     29\u001b[0m \u001b[38;5;28;01mreturn\u001b[39;00m activation_out\n",
      "File \u001b[1;32mc:\\Users\\TEJAS\\anaconda3\\Anaconda\\Lib\\site-packages\\torch\\nn\\modules\\module.py:1518\u001b[0m, in \u001b[0;36mModule._wrapped_call_impl\u001b[1;34m(self, *args, **kwargs)\u001b[0m\n\u001b[0;32m   1516\u001b[0m     \u001b[38;5;28;01mreturn\u001b[39;00m \u001b[38;5;28mself\u001b[39m\u001b[38;5;241m.\u001b[39m_compiled_call_impl(\u001b[38;5;241m*\u001b[39margs, \u001b[38;5;241m*\u001b[39m\u001b[38;5;241m*\u001b[39mkwargs)  \u001b[38;5;66;03m# type: ignore[misc]\u001b[39;00m\n\u001b[0;32m   1517\u001b[0m \u001b[38;5;28;01melse\u001b[39;00m:\n\u001b[1;32m-> 1518\u001b[0m     \u001b[38;5;28;01mreturn\u001b[39;00m \u001b[38;5;28mself\u001b[39m\u001b[38;5;241m.\u001b[39m_call_impl(\u001b[38;5;241m*\u001b[39margs, \u001b[38;5;241m*\u001b[39m\u001b[38;5;241m*\u001b[39mkwargs)\n",
      "File \u001b[1;32mc:\\Users\\TEJAS\\anaconda3\\Anaconda\\Lib\\site-packages\\torch\\nn\\modules\\module.py:1527\u001b[0m, in \u001b[0;36mModule._call_impl\u001b[1;34m(self, *args, **kwargs)\u001b[0m\n\u001b[0;32m   1522\u001b[0m \u001b[38;5;66;03m# If we don't have any hooks, we want to skip the rest of the logic in\u001b[39;00m\n\u001b[0;32m   1523\u001b[0m \u001b[38;5;66;03m# this function, and just call forward.\u001b[39;00m\n\u001b[0;32m   1524\u001b[0m \u001b[38;5;28;01mif\u001b[39;00m \u001b[38;5;129;01mnot\u001b[39;00m (\u001b[38;5;28mself\u001b[39m\u001b[38;5;241m.\u001b[39m_backward_hooks \u001b[38;5;129;01mor\u001b[39;00m \u001b[38;5;28mself\u001b[39m\u001b[38;5;241m.\u001b[39m_backward_pre_hooks \u001b[38;5;129;01mor\u001b[39;00m \u001b[38;5;28mself\u001b[39m\u001b[38;5;241m.\u001b[39m_forward_hooks \u001b[38;5;129;01mor\u001b[39;00m \u001b[38;5;28mself\u001b[39m\u001b[38;5;241m.\u001b[39m_forward_pre_hooks\n\u001b[0;32m   1525\u001b[0m         \u001b[38;5;129;01mor\u001b[39;00m _global_backward_pre_hooks \u001b[38;5;129;01mor\u001b[39;00m _global_backward_hooks\n\u001b[0;32m   1526\u001b[0m         \u001b[38;5;129;01mor\u001b[39;00m _global_forward_hooks \u001b[38;5;129;01mor\u001b[39;00m _global_forward_pre_hooks):\n\u001b[1;32m-> 1527\u001b[0m     \u001b[38;5;28;01mreturn\u001b[39;00m forward_call(\u001b[38;5;241m*\u001b[39margs, \u001b[38;5;241m*\u001b[39m\u001b[38;5;241m*\u001b[39mkwargs)\n\u001b[0;32m   1529\u001b[0m \u001b[38;5;28;01mtry\u001b[39;00m:\n\u001b[0;32m   1530\u001b[0m     result \u001b[38;5;241m=\u001b[39m \u001b[38;5;28;01mNone\u001b[39;00m\n",
      "File \u001b[1;32mc:\\Users\\TEJAS\\anaconda3\\Anaconda\\Lib\\site-packages\\torch\\nn\\modules\\linear.py:114\u001b[0m, in \u001b[0;36mLinear.forward\u001b[1;34m(self, input)\u001b[0m\n\u001b[0;32m    113\u001b[0m \u001b[38;5;28;01mdef\u001b[39;00m \u001b[38;5;21mforward\u001b[39m(\u001b[38;5;28mself\u001b[39m, \u001b[38;5;28minput\u001b[39m: Tensor) \u001b[38;5;241m-\u001b[39m\u001b[38;5;241m>\u001b[39m Tensor:\n\u001b[1;32m--> 114\u001b[0m     \u001b[38;5;28;01mreturn\u001b[39;00m F\u001b[38;5;241m.\u001b[39mlinear(\u001b[38;5;28minput\u001b[39m, \u001b[38;5;28mself\u001b[39m\u001b[38;5;241m.\u001b[39mweight, \u001b[38;5;28mself\u001b[39m\u001b[38;5;241m.\u001b[39mbias)\n",
      "\u001b[1;31mRuntimeError\u001b[0m: mat1 and mat2 shapes cannot be multiplied (1x16 and 3x3)"
     ]
    }
   ],
   "source": [
    "batch_size = 1\n",
    "input_size = 16\n",
    "\n",
    "num_neurons = 16\n",
    "adj_list = {0: [3, 4, 9], 1: [4, 5], 2: [5, 3], 3: [6, 8, 9], 4: [6, 7], 5: [7, 8], 6: [10], 7: [11],\n",
    "            8: [12], 9: [13], 10: [14], 11: [14], 12: [15], 13: [15], 14: [], 15: []}\n",
    "\n",
    "# Create an instance of the CRM_model\n",
    "crm_model = CRM_model(num_neurons, adj_list, d_rho1=2, d_rho2=2)\n",
    "\n",
    "# Generate some input data\n",
    "input_data = torch.randn(batch_size, input_size)\n",
    "\n",
    "# Pass the input data through the model\n",
    "output = crm_model(input_data)\n",
    "\n",
    "# Print the output\n",
    "print(output)\n"
   ]
  },
  {
   "cell_type": "code",
   "execution_count": null,
   "metadata": {},
   "outputs": [],
   "source": []
  },
  {
   "cell_type": "code",
   "execution_count": 92,
   "metadata": {},
   "outputs": [
    {
     "data": {
      "text/plain": [
       "tensor([0.5470, 0.1542, 0.5988, 0.3392, 0.1366, 0.8948, 0.1371, 0.0651])"
      ]
     },
     "execution_count": 92,
     "metadata": {},
     "output_type": "execute_result"
    }
   ],
   "source": [
    "a = torch.rand( 8)\n",
    "a"
   ]
  },
  {
   "cell_type": "code",
   "execution_count": 93,
   "metadata": {},
   "outputs": [
    {
     "data": {
      "text/plain": [
       "tensor([0.1542, 0.5988, 0.3392])"
      ]
     },
     "execution_count": 93,
     "metadata": {},
     "output_type": "execute_result"
    }
   ],
   "source": [
    "a[..., [1,2,3]]"
   ]
  },
  {
   "cell_type": "code",
   "execution_count": 33,
   "metadata": {},
   "outputs": [
    {
     "name": "stdout",
     "output_type": "stream",
     "text": [
      "[[0, 1, 2], [3, 4, 5], [6, 7, 8, 9], [10, 11, 12, 13], [14, 15]]\n"
     ]
    }
   ],
   "source": [
    "adj_list = {0: [3, 4, 9], 1: [4, 5], 2: [5, 3], 3: [6, 8, 9], 4: [6, 7], 5: [7, 8], 6: [10], 7: [11],\n",
    "            8: [12], 9: [13], 10: [14], 11: [14], 12: [15], 13: [15], 14: [], 15: []}\n",
    "num_neurons = len(adj_list)\n",
    "\n",
    "layer_list = []\n",
    "prev_neurons = set()\n",
    "current_layer_neurons = []\n",
    "last_layer = []\n",
    "for i in adj_list:\n",
    "    if adj_list[i] == []:\n",
    "        last_layer.append(i)\n",
    "    \n",
    "    else:\n",
    "        if i in prev_neurons:\n",
    "            prev_neurons = set()\n",
    "            layer_list.append(current_layer_neurons)\n",
    "            current_layer_neurons = []\n",
    "        \n",
    "        current_layer_neurons.append(i)\n",
    "        prev_neurons = prev_neurons.union(set(adj_list[i]))\n",
    "layer_list.append(current_layer_neurons)\n",
    "layer_list.append(last_layer)\n",
    "\n",
    "print(layer_list)"
   ]
  },
  {
   "cell_type": "code",
   "execution_count": 54,
   "metadata": {},
   "outputs": [],
   "source": [
    "mask_0 = torch.rand(4,3) > 0.9\n",
    "mask_prev = torch.rand(4,3) > 0.9"
   ]
  },
  {
   "cell_type": "code",
   "execution_count": 55,
   "metadata": {},
   "outputs": [
    {
     "data": {
      "text/plain": [
       "(tensor([[False, False, False],\n",
       "         [False, False,  True],\n",
       "         [False, False, False],\n",
       "         [False, False, False]]),\n",
       " tensor([[False,  True, False],\n",
       "         [False, False, False],\n",
       "         [False, False, False],\n",
       "         [False, False, False]]))"
      ]
     },
     "execution_count": 55,
     "metadata": {},
     "output_type": "execute_result"
    }
   ],
   "source": [
    "mask_0, mask_prev"
   ]
  },
  {
   "cell_type": "code",
   "execution_count": 58,
   "metadata": {},
   "outputs": [
    {
     "data": {
      "text/plain": [
       "tensor([[False, False],\n",
       "        [False, False],\n",
       "        [False, False]])"
      ]
     },
     "execution_count": 58,
     "metadata": {},
     "output_type": "execute_result"
    }
   ],
   "source": [
    "mask_prev[[1,2,3]][:,[2,1]]"
   ]
  },
  {
   "cell_type": "code",
   "execution_count": 106,
   "metadata": {},
   "outputs": [
    {
     "data": {
      "text/plain": [
       "tensor([0.0000, 0.0000, 0.0000, 0.1723], grad_fn=<ReluBackward0>)"
      ]
     },
     "execution_count": 106,
     "metadata": {},
     "output_type": "execute_result"
    }
   ],
   "source": [
    "layer = rho_1_layer(3, 4, 3, mask_0, mask_prev)\n",
    "layer(torch.tensor([1,2,3], dtype=torch.float32), torch.tensor([1,2,3], dtype=torch.float32))"
   ]
  },
  {
   "cell_type": "code",
   "execution_count": 90,
   "metadata": {},
   "outputs": [
    {
     "data": {
      "text/plain": [
       "torch.Size([4, 3])"
      ]
     },
     "execution_count": 90,
     "metadata": {},
     "output_type": "execute_result"
    }
   ],
   "source": [
    "layer.layer_0.weight.size()"
   ]
  },
  {
   "cell_type": "code",
   "execution_count": 4,
   "metadata": {},
   "outputs": [
    {
     "data": {
      "text/plain": [
       "array([0, 1, 2, 3, 4, 5, 6, 7, 8, 9], dtype=int64)"
      ]
     },
     "execution_count": 4,
     "metadata": {},
     "output_type": "execute_result"
    }
   ],
   "source": [
    "import torch\n",
    "torch.tensor([torch.tensor(i) for i in range(10)]).numpy()"
   ]
  },
  {
   "cell_type": "code",
   "execution_count": null,
   "metadata": {},
   "outputs": [],
   "source": []
  }
 ],
 "metadata": {
  "kernelspec": {
   "display_name": "Python 3",
   "language": "python",
   "name": "python3"
  },
  "language_info": {
   "codemirror_mode": {
    "name": "ipython",
    "version": 3
   },
   "file_extension": ".py",
   "mimetype": "text/x-python",
   "name": "python",
   "nbconvert_exporter": "python",
   "pygments_lexer": "ipython3",
   "version": "3.10.11"
  }
 },
 "nbformat": 4,
 "nbformat_minor": 2
}
