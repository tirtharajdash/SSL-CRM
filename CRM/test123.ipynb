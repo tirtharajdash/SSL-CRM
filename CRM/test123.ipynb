{
 "cells": [
  {
   "cell_type": "code",
   "execution_count": 1,
   "metadata": {},
   "outputs": [
    {
     "data": {
      "text/plain": [
       "tensor(True)"
      ]
     },
     "execution_count": 1,
     "metadata": {},
     "output_type": "execute_result"
    }
   ],
   "source": [
    "import torch\n",
    "torch.tensor(5) == torch.tensor(5)"
   ]
  },
  {
   "cell_type": "code",
   "execution_count": 2,
   "metadata": {},
   "outputs": [
    {
     "name": "stdout",
     "output_type": "stream",
     "text": [
      "Layer 0: [0]\n",
      "Layer 1: [1, 2, 3]\n",
      "Layer 2: [4]\n"
     ]
    }
   ],
   "source": [
    "def adjacency_matrix_to_layerwise_neuron_list(adjacency_matrix):\n",
    "    # Function to convert adjacency matrix to layer-wise list of neurons\n",
    "    \n",
    "    num_neurons = len(adjacency_matrix)\n",
    "    \n",
    "    # Initialize an empty list to store neurons layer-wise\n",
    "    layerwise_neurons = []\n",
    "    \n",
    "    # Find the neurons in the input layer (no incoming connections)\n",
    "    input_neurons = [i for i in range(num_neurons) if all(adjacency_matrix[j][i] == 0 for j in range(num_neurons))]\n",
    "    layerwise_neurons.append(input_neurons)\n",
    "    \n",
    "    # Initialize a set to keep track of visited neurons\n",
    "    visited = set(input_neurons)\n",
    "    \n",
    "    # Process the neurons layer by layer\n",
    "    while True:\n",
    "        # Find the neurons in the next layer\n",
    "        next_layer = []\n",
    "        for neuron in layerwise_neurons[-1]:\n",
    "            # Find the neurons connected to the current neuron\n",
    "            connected_neurons = [i for i in range(num_neurons) if adjacency_matrix[neuron][i] != 0]\n",
    "            # Add unvisited connected neurons to the next layer\n",
    "            for connected_neuron in connected_neurons:\n",
    "                if connected_neuron not in visited:\n",
    "                    next_layer.append(connected_neuron)\n",
    "                    visited.add(connected_neuron)\n",
    "        \n",
    "        # If no more neurons are found in the next layer, break\n",
    "        if not next_layer:\n",
    "            break\n",
    "        \n",
    "        # Add the next layer to the list of layerwise neurons\n",
    "        layerwise_neurons.append(next_layer)\n",
    "    \n",
    "    return layerwise_neurons\n",
    "\n",
    "# Example adjacency matrix representing a directed graph of neurons\n",
    "adjacency_matrix = [\n",
    "    [0, 1, 1, 1, 0],\n",
    "    [0, 0, 0, 1, 0],\n",
    "    [0, 0, 0, 1, 0],\n",
    "    [0, 0, 0, 0, 1],\n",
    "    [0, 0, 0, 0, 0]\n",
    "]\n",
    "\n",
    "# Convert adjacency matrix to layer-wise list of neurons\n",
    "layerwise_neurons = adjacency_matrix_to_layerwise_neuron_list(adjacency_matrix)\n",
    "\n",
    "# Print the layer-wise list of neurons\n",
    "for layer_num, neurons in enumerate(layerwise_neurons):\n",
    "    print(f\"Layer {layer_num}: {neurons}\")\n"
   ]
  },
  {
   "cell_type": "code",
   "execution_count": 23,
   "metadata": {},
   "outputs": [
    {
     "data": {
      "text/plain": [
       "torch.Size([3, 5])"
      ]
     },
     "execution_count": 23,
     "metadata": {},
     "output_type": "execute_result"
    }
   ],
   "source": [
    "import torch\n",
    "a = torch.tensor([[1, 2, 3], [4, 5, 6], [7, 8, 9], [10, 11, 12]])\n",
    "a = torch.tensor([[1, 2, 3, 4, 5], [6, 7, 8, 9, 10], [11, 12, 13, 14, 15]])\n",
    "a.shape"
   ]
  },
  {
   "cell_type": "code",
   "execution_count": 6,
   "metadata": {},
   "outputs": [
    {
     "data": {
      "text/plain": [
       "['a', 'b', 'c']"
      ]
     },
     "execution_count": 6,
     "metadata": {},
     "output_type": "execute_result"
    }
   ],
   "source": [
    "a = {1: 'a', 2: 'b', 3: 'c'}\n",
    "list(a.values())"
   ]
  },
  {
   "cell_type": "code",
   "execution_count": null,
   "metadata": {},
   "outputs": [],
   "source": []
  }
 ],
 "metadata": {
  "kernelspec": {
   "display_name": "Python 3",
   "language": "python",
   "name": "python3"
  },
  "language_info": {
   "codemirror_mode": {
    "name": "ipython",
    "version": 3
   },
   "file_extension": ".py",
   "mimetype": "text/x-python",
   "name": "python",
   "nbconvert_exporter": "python",
   "pygments_lexer": "ipython3",
   "version": "3.10.11"
  }
 },
 "nbformat": 4,
 "nbformat_minor": 2
}
